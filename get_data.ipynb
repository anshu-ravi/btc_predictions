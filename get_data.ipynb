{
 "cells": [
  {
   "cell_type": "code",
   "execution_count": null,
   "metadata": {},
   "outputs": [],
   "source": [
    "import time\n",
    "import datetime\n",
    "from binance import Client # pip install python-binance\n",
    "import pandas as pd\n",
    "import os"
   ]
  },
  {
   "cell_type": "code",
   "execution_count": null,
   "metadata": {},
   "outputs": [],
   "source": [
    "download = False\n",
    "if download:\n",
    "    %pip install python-binance\n",
    "    %pip install pandas\n",
    "    %pip install pyarrow"
   ]
  },
  {
   "cell_type": "code",
   "execution_count": null,
   "metadata": {},
   "outputs": [],
   "source": [
    "dir = 'data/prices'\n",
    "timeframes = ['1min', '5min', '15min', '1h', '4h', '1d', '1w']\n",
    "\n",
    "from data import CryptoData\n",
    "\n",
    "asset = 'BTC'\n",
    "interval = '1d'\n",
    "start_dt = datetime.date(2018, 2, 1) \n",
    "last_dt = datetime.date(2024, 2, 12)\n",
    "\n",
    "data_downloader = CryptoData(asset, interval, start_dt, last_dt)\n",
    "data_downloader.get_crypto_data()"
   ]
  },
  {
   "cell_type": "markdown",
   "metadata": {},
   "source": [
    "## Get Crypto Greed & Fear Index"
   ]
  },
  {
   "cell_type": "code",
   "execution_count": null,
   "metadata": {},
   "outputs": [],
   "source": [
    "from data import CryptoCFGIData\n",
    "\n",
    "# Usage:\n",
    "data_downloader = CryptoCFGIData()\n",
    "data = data_downloader.download_data()"
   ]
  },
  {
   "cell_type": "markdown",
   "metadata": {},
   "source": [
    "## Google News"
   ]
  },
  {
   "cell_type": "code",
   "execution_count": 26,
   "metadata": {},
   "outputs": [],
   "source": [
    "%load_ext autoreload\n",
    "%autoreload 1"
   ]
  },
  {
   "cell_type": "code",
   "execution_count": 27,
   "metadata": {},
   "outputs": [
    {
     "name": "stderr",
     "output_type": "stream",
     "text": [
      "/home/anshu/miniconda3/envs/crypto/lib/python3.9/site-packages/tqdm/auto.py:21: TqdmWarning: IProgress not found. Please update jupyter and ipywidgets. See https://ipywidgets.readthedocs.io/en/stable/user_install.html\n",
      "  from .autonotebook import tqdm as notebook_tqdm\n"
     ]
    }
   ],
   "source": [
    "%aimport data\n",
    "from data import CryptoData, CryptoCFGIData, BTCNews\n",
    "\n",
    "%aimport news_analysis\n",
    "import news_analysis as nws\n",
    "import pandas as pd\n",
    "import numpy as np"
   ]
  },
  {
   "cell_type": "code",
   "execution_count": 33,
   "metadata": {},
   "outputs": [],
   "source": [
    "def check_if_text_is_valid(text):\n",
    "    keywords = ['bitcoin', 'btc', 'cryptocurrency', 'crypto']\n",
    "    if pd.isnull(text) or text == '':\n",
    "        return False\n",
    "    elif len(text) < 500 and not any(word in text.lower() for word in keywords):\n",
    "        return False\n",
    "    return True\n",
    "\n",
    "def load_crypto_data(file_path):\n",
    "    cryptonews = pd.read_csv(file_path)\n",
    "    cryptonews['Date'] = pd.to_datetime(cryptonews['Date'])\n",
    "    cryptonews = cryptonews.sort_values(by='Date', ascending=True)\n",
    "    cryptonews = cryptonews.reset_index(drop=True)\n",
    "\n",
    "    if 'count' not in cryptonews.columns:\n",
    "        # Count the number of news articles per day\n",
    "        cryptonews['count'] = -1\n",
    "        cryptonews['count'] = cryptonews['count'].groupby(cryptonews.Date.dt.date).transform(np.size)\n",
    "        \n",
    "    if 'Text' in cryptonews.columns:\n",
    "        # Check if the text is valid by checking the length and the presence of keywords    \n",
    "        cryptonews['Valid_Text'] = cryptonews['Text'].apply(check_if_text_is_valid)\n",
    "    \n",
    "    return cryptonews\n"
   ]
  },
  {
   "cell_type": "code",
   "execution_count": 34,
   "metadata": {},
   "outputs": [],
   "source": [
    "file_path = \"data/news/btc_news.csv\"\n",
    "cryptonews = load_crypto_data(file_path)"
   ]
  },
  {
   "cell_type": "raw",
   "metadata": {},
   "source": [
    "### Get the text of the news articles from the URLs in the dataset ###\n",
    "\n",
    "from tqdm import tqdm\n",
    "\n",
    "n_valid_text = 0\n",
    "n_invald_text = 0\n",
    "\n",
    "pbar = tqdm(total=len(cryptonews))\n",
    "for index, row in cryptonews.iterrows():\n",
    "    url = row['URL']\n",
    "    text = nws.get_article_text(url)\n",
    "    cryptonews.loc[index, 'Text'] = text\n",
    "    if text is not None:\n",
    "        n_valid_text += 1\n",
    "    else:\n",
    "        n_invald_text += 1\n",
    "\n",
    "    pbar.set_description(f\"Valid: {n_valid_text}  Invalid: {n_invald_text}\")\n",
    "    pbar.update(1)\n",
    "\n",
    "pbar.close()\n",
    "\n",
    "cryptonews.to_csv('data/news/btc_news_text.csv', index=False)"
   ]
  },
  {
   "cell_type": "raw",
   "metadata": {},
   "source": [
    "prices = pd.read_csv('data/prices/1d/BTCUSDT.csv')\n",
    "prices['Date'] = pd.to_datetime(prices['Time'], format=\"%d-%m-%Y\")\n",
    "prices = prices.sort_values(by='Date', ascending=True)\n",
    "prices = prices.reset_index(drop=True)\n",
    "\n",
    "\n",
    "cfgi = pd.read_csv('data/cfgi/cfgi.csv')\n",
    "cfgi['Date'] = pd.to_datetime(cfgi['Date'])\n",
    "cfgi = cfgi.sort_values(by='Date', ascending=True)\n",
    "cfgi = cfgi.reset_index(drop=True)\n",
    "\n",
    "prices.shape, cfgi.shape, cryptonews.shape"
   ]
  },
  {
   "cell_type": "code",
   "execution_count": null,
   "metadata": {},
   "outputs": [],
   "source": [
    "# # prices.join(cfgi, on='Date', how='inner')\n",
    "\n",
    "# merged_df = prices.merge(cfgi, on='Date', how='inner')\n",
    "# import matplotlib.pyplot as plt\n",
    "# import seaborn as sns\n",
    "\n",
    "# fig, ax = plt.subplots(figsize=(15, 7))\n",
    "# merged_df['Close_pct'] = merged_df['Close'].pct_change()\n",
    "# sns.lineplot(data=merged_df, x='Date', y='Close_pct', ax=ax)\n",
    "# ax2 = ax.twinx()\n",
    "# sns.lineplot(data=merged_df, x='Date', y='Value', ax=ax2, color='r')"
   ]
  },
  {
   "cell_type": "raw",
   "metadata": {},
   "source": [
    "### Summarize the news articles ###\n",
    "\n",
    "from tqdm import tqdm\n",
    "# cryptonews_part2 = cryptonews[10000:20000].copy()\n",
    "# cryptonews_part2 = cryptonews_part2.reset_index(drop=True)\n",
    "\n",
    "sum_tool = nws.Summarizer()\n",
    "pbar = tqdm(initial=10000, total=20000)\n",
    "cryptonews['Summary'] = np.nan\n",
    "for i in range(cryptonews.shape[0]):\n",
    "    if cryptonews.loc[i, 'Valid_Text']:\n",
    "        cryptonews.at[i, 'Summary'] = sum_tool.summarize_article(cryptonews['Text'][i])\n",
    "    pbar.update(1)\n",
    "    \n",
    "    cryptonews['Summary'].to_csv('btc_news_summary.csv', index=False)    \n",
    "\n",
    "pbar.close()"
   ]
  },
  {
   "cell_type": "markdown",
   "metadata": {},
   "source": [
    "## Part 3"
   ]
  },
  {
   "cell_type": "markdown",
   "metadata": {},
   "source": [
    "Directory Structure\n",
    "- btc_news contains the data got from Google Search (Title, URL, Date, Source)\n",
    "- btc_news_text contains the above + the actual text of the article \n",
    "- btc_news_summary1,2,3 contains only the summaries for all the articles \n",
    "    - Part 1 contains 0-1219 (exclusive)\n",
    "    - Part 2 contains 1219-10000 (exclusive)\n",
    "    - Part 3 contains 10000-end\n",
    "- summary is the final combined file with all the summaries\n",
    "\n",
    "Note: This was done as the data was split into 3 parts to leverage the use of GPU across different platforms (Kaggle, Google Colab) for faster summarization "
   ]
  },
  {
   "cell_type": "code",
   "execution_count": 141,
   "metadata": {},
   "outputs": [
    {
     "data": {
      "text/html": [
       "<div>\n",
       "<style scoped>\n",
       "    .dataframe tbody tr th:only-of-type {\n",
       "        vertical-align: middle;\n",
       "    }\n",
       "\n",
       "    .dataframe tbody tr th {\n",
       "        vertical-align: top;\n",
       "    }\n",
       "\n",
       "    .dataframe thead th {\n",
       "        text-align: right;\n",
       "    }\n",
       "</style>\n",
       "<table border=\"1\" class=\"dataframe\">\n",
       "  <thead>\n",
       "    <tr style=\"text-align: right;\">\n",
       "      <th></th>\n",
       "      <th>Title</th>\n",
       "      <th>URL</th>\n",
       "      <th>Date</th>\n",
       "      <th>Source</th>\n",
       "      <th>Text</th>\n",
       "      <th>count</th>\n",
       "      <th>Valid_Text</th>\n",
       "    </tr>\n",
       "  </thead>\n",
       "  <tbody>\n",
       "    <tr>\n",
       "      <th>0</th>\n",
       "      <td>Some clinics allow patients to pay in bitcoin ...</td>\n",
       "      <td>https://news.google.com/rss/articles/CBMiRmh0d...</td>\n",
       "      <td>2018-02-01 08:00:00</td>\n",
       "      <td>STAT</td>\n",
       "      <td>Some clinics allow patients to pay in bitcoin ...</td>\n",
       "      <td>19</td>\n",
       "      <td>True</td>\n",
       "    </tr>\n",
       "    <tr>\n",
       "      <th>1</th>\n",
       "      <td>Why is Bitcoin’s price down to two-month lows?...</td>\n",
       "      <td>https://news.google.com/rss/articles/CBMiPWh0d...</td>\n",
       "      <td>2018-02-01 08:00:00</td>\n",
       "      <td>TechCrunch</td>\n",
       "      <td>Crypto investors are seeing red this week. Bit...</td>\n",
       "      <td>19</td>\n",
       "      <td>True</td>\n",
       "    </tr>\n",
       "    <tr>\n",
       "      <th>2</th>\n",
       "      <td>A Bitcoin Conference Rented a Miami Strip Club...</td>\n",
       "      <td>https://news.google.com/rss/articles/CBMicGh0d...</td>\n",
       "      <td>2018-02-01 08:00:00</td>\n",
       "      <td>Bloomberg</td>\n",
       "      <td>The North American Bitcoin Conference wrapped ...</td>\n",
       "      <td>19</td>\n",
       "      <td>True</td>\n",
       "    </tr>\n",
       "    <tr>\n",
       "      <th>3</th>\n",
       "      <td>Peter Thiel Says, 'Crypto Is Libertarian, A.I....</td>\n",
       "      <td>https://news.google.com/rss/articles/CBMiO2h0d...</td>\n",
       "      <td>2018-02-01 08:00:00</td>\n",
       "      <td>Inc.</td>\n",
       "      <td>NaN</td>\n",
       "      <td>19</td>\n",
       "      <td>False</td>\n",
       "    </tr>\n",
       "    <tr>\n",
       "      <th>4</th>\n",
       "      <td>Bitcoin's January fall wipes off $44bn in valu...</td>\n",
       "      <td>https://news.google.com/rss/articles/CBMiYGh0d...</td>\n",
       "      <td>2018-02-01 08:00:00</td>\n",
       "      <td>The Guardian</td>\n",
       "      <td>Bitcoin plummeted in value by more than $44bn ...</td>\n",
       "      <td>19</td>\n",
       "      <td>True</td>\n",
       "    </tr>\n",
       "  </tbody>\n",
       "</table>\n",
       "</div>"
      ],
      "text/plain": [
       "                                               Title  \\\n",
       "0  Some clinics allow patients to pay in bitcoin ...   \n",
       "1  Why is Bitcoin’s price down to two-month lows?...   \n",
       "2  A Bitcoin Conference Rented a Miami Strip Club...   \n",
       "3  Peter Thiel Says, 'Crypto Is Libertarian, A.I....   \n",
       "4  Bitcoin's January fall wipes off $44bn in valu...   \n",
       "\n",
       "                                                 URL                Date  \\\n",
       "0  https://news.google.com/rss/articles/CBMiRmh0d... 2018-02-01 08:00:00   \n",
       "1  https://news.google.com/rss/articles/CBMiPWh0d... 2018-02-01 08:00:00   \n",
       "2  https://news.google.com/rss/articles/CBMicGh0d... 2018-02-01 08:00:00   \n",
       "3  https://news.google.com/rss/articles/CBMiO2h0d... 2018-02-01 08:00:00   \n",
       "4  https://news.google.com/rss/articles/CBMiYGh0d... 2018-02-01 08:00:00   \n",
       "\n",
       "         Source                                               Text  count  \\\n",
       "0          STAT  Some clinics allow patients to pay in bitcoin ...     19   \n",
       "1    TechCrunch  Crypto investors are seeing red this week. Bit...     19   \n",
       "2     Bloomberg  The North American Bitcoin Conference wrapped ...     19   \n",
       "3          Inc.                                                NaN     19   \n",
       "4  The Guardian  Bitcoin plummeted in value by more than $44bn ...     19   \n",
       "\n",
       "   Valid_Text  \n",
       "0        True  \n",
       "1        True  \n",
       "2        True  \n",
       "3       False  \n",
       "4        True  "
      ]
     },
     "execution_count": 141,
     "metadata": {},
     "output_type": "execute_result"
    }
   ],
   "source": [
    "file_path = 'data/news/btc_news_text.csv'\n",
    "news = load_crypto_data(file_path)\n",
    "news.head()"
   ]
  },
  {
   "cell_type": "code",
   "execution_count": 142,
   "metadata": {},
   "outputs": [
    {
     "name": "stdout",
     "output_type": "stream",
     "text": [
      "(1219, 1) (8781, 1) (25374, 1)\n",
      "Total rows: 35374\n"
     ]
    }
   ],
   "source": [
    "### Combine the 3 summaries data into one dataframe ####\n",
    "import pandas as pd\n",
    "\n",
    "p1 = pd.read_csv('data/news/btc_news_summary1.csv')\n",
    "p1 = p1.iloc[:1219]\n",
    "p2 = pd.read_csv('data/news/btc_news_summaryPart2.csv')\n",
    "p3 = pd.read_csv('data/news/btc_news_summary3.csv')\n",
    "\n",
    "\n",
    "print(p1.shape, p2.shape, p3.shape)\n",
    "print(f'Total rows: {p1.shape[0] + p2.shape[0] + p3.shape[0]}')\n",
    "assert p1.shape[0] + p2.shape[0] + p3.shape[0] == news.shape[0]\n",
    "\n",
    "summaries_comb = pd.concat([p1, p2, p3], axis=0)\n",
    "summaries_comb = summaries_comb.reset_index(drop=True)\n",
    "summaries_comb.to_csv('data/news/summary.csv', index=False)"
   ]
  },
  {
   "cell_type": "code",
   "execution_count": 143,
   "metadata": {},
   "outputs": [
    {
     "name": "stdout",
     "output_type": "stream",
     "text": [
      "The dataset has 9055 missing values\n"
     ]
    }
   ],
   "source": [
    "# Dropping the Text column as we don't need it anymore \n",
    "# Since we have the summaries \n",
    "# news.drop('Text', axis=1, inplace=True)\n",
    "news['Summary'] = summaries_comb['Summary']\n",
    "print(f\"The dataset has {news.Summary.isnull().sum()} missing values\")"
   ]
  },
  {
   "cell_type": "markdown",
   "metadata": {},
   "source": [
    "These missing values exist because the articles couldn't be accessed through Python as the websites had some kind of blocker enabled on them to prevent scraping. It is not wise to drop all these rows as they still contain a lot of valuable information. \n",
    "\n",
    "Alternate Solution: To use the title of the news article as its summary. While this approach is not ideal, it is better than dropping the rows entirely. In addition, the title of the news article should still contain sufficient information for the subsequent models to use"
   ]
  },
  {
   "cell_type": "code",
   "execution_count": 144,
   "metadata": {},
   "outputs": [
    {
     "name": "stdout",
     "output_type": "stream",
     "text": [
      "0\n"
     ]
    }
   ],
   "source": [
    "news.Summary = np.where(news.Summary.isnull(), news.Title, news.Summary)\n",
    "print(news.Summary.isna().sum())\n",
    "\n",
    "idxs_drop = news[news.Summary.str.len() > 700].index\n",
    "news.loc[idxs_drop, 'Summary'] = news.loc[idxs_drop, 'Title']\n",
    "\n",
    "# news.to_csv('data/news/data4sentiment.csv', index=False)"
   ]
  },
  {
   "cell_type": "raw",
   "metadata": {},
   "source": [
    "### Sentiment Analysis ###\n",
    "from tqdm import tqdm\n",
    "senti = nws.NewsSentiment()\n",
    "results = senti.get_sentiment(news.loc[:, 'Summary'])\n",
    "labels = results[0]\n",
    "scores = results[1]\n",
    "sa_scores = pd.DataFrame()\n",
    "sa_scores['Sentiment_Label'] = labels \n",
    "sa_scores['Sentiment_Score'] = scores\n",
    "sa_scores.to_csv('news_sa.csv', index=False)"
   ]
  },
  {
   "cell_type": "code",
   "execution_count": 153,
   "metadata": {},
   "outputs": [],
   "source": [
    "sa_scores = pd.read_csv('data/news/news_sa.csv')\n",
    "\n",
    "news['Sentiment_Label'] = sa_scores['Sentiment_Label']\n",
    "news['Sentiment_Score'] = sa_scores['Sentiment_Score']\n",
    "news.to_parquet('data/news/final.parquet', index=False)"
   ]
  },
  {
   "cell_type": "code",
   "execution_count": 21,
   "metadata": {},
   "outputs": [
    {
     "data": {
      "text/html": [
       "<div>\n",
       "<style scoped>\n",
       "    .dataframe tbody tr th:only-of-type {\n",
       "        vertical-align: middle;\n",
       "    }\n",
       "\n",
       "    .dataframe tbody tr th {\n",
       "        vertical-align: top;\n",
       "    }\n",
       "\n",
       "    .dataframe thead th {\n",
       "        text-align: right;\n",
       "    }\n",
       "</style>\n",
       "<table border=\"1\" class=\"dataframe\">\n",
       "  <thead>\n",
       "    <tr style=\"text-align: right;\">\n",
       "      <th></th>\n",
       "      <th>Title</th>\n",
       "      <th>URL</th>\n",
       "      <th>Date</th>\n",
       "      <th>Source</th>\n",
       "      <th>Text</th>\n",
       "      <th>count</th>\n",
       "      <th>Valid_Text</th>\n",
       "      <th>Summary</th>\n",
       "      <th>Sentiment_Label</th>\n",
       "      <th>Sentiment_Score</th>\n",
       "    </tr>\n",
       "  </thead>\n",
       "  <tbody>\n",
       "    <tr>\n",
       "      <th>0</th>\n",
       "      <td>Some clinics allow patients to pay in bitcoin ...</td>\n",
       "      <td>https://news.google.com/rss/articles/CBMiRmh0d...</td>\n",
       "      <td>2018-02-01 08:00:00</td>\n",
       "      <td>STAT</td>\n",
       "      <td>Some clinics allow patients to pay in bitcoin ...</td>\n",
       "      <td>19</td>\n",
       "      <td>True</td>\n",
       "      <td>As the value of the digital currency bitcoin c...</td>\n",
       "      <td>1</td>\n",
       "      <td>0.507967</td>\n",
       "    </tr>\n",
       "    <tr>\n",
       "      <th>1</th>\n",
       "      <td>Why is Bitcoin’s price down to two-month lows?...</td>\n",
       "      <td>https://news.google.com/rss/articles/CBMiPWh0d...</td>\n",
       "      <td>2018-02-01 08:00:00</td>\n",
       "      <td>TechCrunch</td>\n",
       "      <td>Crypto investors are seeing red this week. Bit...</td>\n",
       "      <td>19</td>\n",
       "      <td>True</td>\n",
       "      <td>It’s been a rough week for the crypto world, a...</td>\n",
       "      <td>1</td>\n",
       "      <td>0.996861</td>\n",
       "    </tr>\n",
       "    <tr>\n",
       "      <th>2</th>\n",
       "      <td>A Bitcoin Conference Rented a Miami Strip Club...</td>\n",
       "      <td>https://news.google.com/rss/articles/CBMicGh0d...</td>\n",
       "      <td>2018-02-01 08:00:00</td>\n",
       "      <td>Bloomberg</td>\n",
       "      <td>The North American Bitcoin Conference wrapped ...</td>\n",
       "      <td>19</td>\n",
       "      <td>True</td>\n",
       "      <td>One of the world’s largest conferences on the ...</td>\n",
       "      <td>0</td>\n",
       "      <td>0.999861</td>\n",
       "    </tr>\n",
       "    <tr>\n",
       "      <th>3</th>\n",
       "      <td>Peter Thiel Says, 'Crypto Is Libertarian, A.I....</td>\n",
       "      <td>https://news.google.com/rss/articles/CBMiO2h0d...</td>\n",
       "      <td>2018-02-01 08:00:00</td>\n",
       "      <td>Inc.</td>\n",
       "      <td>None</td>\n",
       "      <td>19</td>\n",
       "      <td>False</td>\n",
       "      <td>Peter Thiel Says, 'Crypto Is Libertarian, A.I....</td>\n",
       "      <td>0</td>\n",
       "      <td>0.999423</td>\n",
       "    </tr>\n",
       "    <tr>\n",
       "      <th>4</th>\n",
       "      <td>Bitcoin's January fall wipes off $44bn in valu...</td>\n",
       "      <td>https://news.google.com/rss/articles/CBMiYGh0d...</td>\n",
       "      <td>2018-02-01 08:00:00</td>\n",
       "      <td>The Guardian</td>\n",
       "      <td>Bitcoin plummeted in value by more than $44bn ...</td>\n",
       "      <td>19</td>\n",
       "      <td>True</td>\n",
       "      <td>The price of bitcoin has continued to fall as ...</td>\n",
       "      <td>0</td>\n",
       "      <td>0.999851</td>\n",
       "    </tr>\n",
       "  </tbody>\n",
       "</table>\n",
       "</div>"
      ],
      "text/plain": [
       "                                               Title  \\\n",
       "0  Some clinics allow patients to pay in bitcoin ...   \n",
       "1  Why is Bitcoin’s price down to two-month lows?...   \n",
       "2  A Bitcoin Conference Rented a Miami Strip Club...   \n",
       "3  Peter Thiel Says, 'Crypto Is Libertarian, A.I....   \n",
       "4  Bitcoin's January fall wipes off $44bn in valu...   \n",
       "\n",
       "                                                 URL                Date  \\\n",
       "0  https://news.google.com/rss/articles/CBMiRmh0d... 2018-02-01 08:00:00   \n",
       "1  https://news.google.com/rss/articles/CBMiPWh0d... 2018-02-01 08:00:00   \n",
       "2  https://news.google.com/rss/articles/CBMicGh0d... 2018-02-01 08:00:00   \n",
       "3  https://news.google.com/rss/articles/CBMiO2h0d... 2018-02-01 08:00:00   \n",
       "4  https://news.google.com/rss/articles/CBMiYGh0d... 2018-02-01 08:00:00   \n",
       "\n",
       "         Source                                               Text  count  \\\n",
       "0          STAT  Some clinics allow patients to pay in bitcoin ...     19   \n",
       "1    TechCrunch  Crypto investors are seeing red this week. Bit...     19   \n",
       "2     Bloomberg  The North American Bitcoin Conference wrapped ...     19   \n",
       "3          Inc.                                               None     19   \n",
       "4  The Guardian  Bitcoin plummeted in value by more than $44bn ...     19   \n",
       "\n",
       "   Valid_Text                                            Summary  \\\n",
       "0        True  As the value of the digital currency bitcoin c...   \n",
       "1        True  It’s been a rough week for the crypto world, a...   \n",
       "2        True  One of the world’s largest conferences on the ...   \n",
       "3       False  Peter Thiel Says, 'Crypto Is Libertarian, A.I....   \n",
       "4        True  The price of bitcoin has continued to fall as ...   \n",
       "\n",
       "   Sentiment_Label  Sentiment_Score  \n",
       "0                1         0.507967  \n",
       "1                1         0.996861  \n",
       "2                0         0.999861  \n",
       "3                0         0.999423  \n",
       "4                0         0.999851  "
      ]
     },
     "execution_count": 21,
     "metadata": {},
     "output_type": "execute_result"
    }
   ],
   "source": [
    "### Load the final dataset ###\n",
    "import pandas as pd\n",
    "news = pd.read_parquet('data/news/final.parquet')\n",
    "news['Date'] = pd.to_datetime(news['Date'])\n",
    "\n",
    "sentiment_dict = {'negative': -1, 'neutral': 0, 'positive': 1}\n",
    "news['Sentiment_Label'] = news['Sentiment_Label'].map(sentiment_dict)\n",
    "\n",
    "news.head()"
   ]
  },
  {
   "cell_type": "code",
   "execution_count": 48,
   "metadata": {},
   "outputs": [
    {
     "data": {
      "text/plain": [
       "-1"
      ]
     },
     "execution_count": 48,
     "metadata": {},
     "output_type": "execute_result"
    }
   ],
   "source": []
  },
  {
   "cell_type": "code",
   "execution_count": 54,
   "metadata": {},
   "outputs": [
    {
     "data": {
      "text/html": [
       "<div>\n",
       "<style scoped>\n",
       "    .dataframe tbody tr th:only-of-type {\n",
       "        vertical-align: middle;\n",
       "    }\n",
       "\n",
       "    .dataframe tbody tr th {\n",
       "        vertical-align: top;\n",
       "    }\n",
       "\n",
       "    .dataframe thead th {\n",
       "        text-align: right;\n",
       "    }\n",
       "</style>\n",
       "<table border=\"1\" class=\"dataframe\">\n",
       "  <thead>\n",
       "    <tr style=\"text-align: right;\">\n",
       "      <th></th>\n",
       "      <th>Date</th>\n",
       "      <th>Sentiment_Label</th>\n",
       "    </tr>\n",
       "  </thead>\n",
       "  <tbody>\n",
       "    <tr>\n",
       "      <th>0</th>\n",
       "      <td>2018-02-01</td>\n",
       "      <td>0.105263</td>\n",
       "    </tr>\n",
       "    <tr>\n",
       "      <th>1</th>\n",
       "      <td>2018-02-02</td>\n",
       "      <td>-0.259259</td>\n",
       "    </tr>\n",
       "    <tr>\n",
       "      <th>2</th>\n",
       "      <td>2018-02-03</td>\n",
       "      <td>-0.400000</td>\n",
       "    </tr>\n",
       "    <tr>\n",
       "      <th>3</th>\n",
       "      <td>2018-02-04</td>\n",
       "      <td>-0.250000</td>\n",
       "    </tr>\n",
       "    <tr>\n",
       "      <th>4</th>\n",
       "      <td>2018-02-05</td>\n",
       "      <td>-0.444444</td>\n",
       "    </tr>\n",
       "    <tr>\n",
       "      <th>...</th>\n",
       "      <td>...</td>\n",
       "      <td>...</td>\n",
       "    </tr>\n",
       "    <tr>\n",
       "      <th>2201</th>\n",
       "      <td>2024-02-13</td>\n",
       "      <td>0.062500</td>\n",
       "    </tr>\n",
       "    <tr>\n",
       "      <th>2202</th>\n",
       "      <td>2024-02-14</td>\n",
       "      <td>0.210526</td>\n",
       "    </tr>\n",
       "    <tr>\n",
       "      <th>2203</th>\n",
       "      <td>2024-02-15</td>\n",
       "      <td>0.555556</td>\n",
       "    </tr>\n",
       "    <tr>\n",
       "      <th>2204</th>\n",
       "      <td>2024-02-16</td>\n",
       "      <td>0.090909</td>\n",
       "    </tr>\n",
       "    <tr>\n",
       "      <th>2205</th>\n",
       "      <td>2024-02-17</td>\n",
       "      <td>0.428571</td>\n",
       "    </tr>\n",
       "  </tbody>\n",
       "</table>\n",
       "<p>2206 rows × 2 columns</p>\n",
       "</div>"
      ],
      "text/plain": [
       "            Date  Sentiment_Label\n",
       "0     2018-02-01         0.105263\n",
       "1     2018-02-02        -0.259259\n",
       "2     2018-02-03        -0.400000\n",
       "3     2018-02-04        -0.250000\n",
       "4     2018-02-05        -0.444444\n",
       "...          ...              ...\n",
       "2201  2024-02-13         0.062500\n",
       "2202  2024-02-14         0.210526\n",
       "2203  2024-02-15         0.555556\n",
       "2204  2024-02-16         0.090909\n",
       "2205  2024-02-17         0.428571\n",
       "\n",
       "[2206 rows x 2 columns]"
      ]
     },
     "execution_count": 54,
     "metadata": {},
     "output_type": "execute_result"
    }
   ],
   "source": [
    "news.groupby(news.Date.dt.date)['Sentiment_Label'].mean().reset_index()"
   ]
  },
  {
   "cell_type": "code",
   "execution_count": 81,
   "metadata": {},
   "outputs": [],
   "source": [
    "# Calculate the mean sentiment score per day\n",
    "agg_daily_sentiment = news.groupby(news.Date.dt.date)['Sentiment_Label'].mean().reset_index()\n",
    "\n",
    "# Calculate the percentage of the positive, negative and neutral news articles per day\n",
    "news_percent = news.groupby(news.Date.dt.date)['Sentiment_Label'].apply(lambda x: x.value_counts()).unstack().reset_index()\n",
    "news_percent.fillna(0, inplace=True)\n",
    "news_percent.columns = ['Date', 'Negative', 'Neutral', 'Positive']\n",
    "news_percent['Total'] = news_percent['Negative'] + news_percent['Neutral'] + news_percent['Positive']   \n",
    "news_percent[['Negative', 'Neutral', 'Positive']] = news_percent[['Negative', 'Neutral', 'Positive']].div(news_percent['Total'], axis=0)\n",
    "\n",
    "# Store it back into the main df\n",
    "agg_daily_sentiment['Negative_Percent'] = news_percent['Negative']\n",
    "agg_daily_sentiment['Neutral_Percent'] = news_percent['Neutral']\n",
    "agg_daily_sentiment['Positive_Percent'] = news_percent['Positive']"
   ]
  },
  {
   "cell_type": "code",
   "execution_count": 82,
   "metadata": {},
   "outputs": [
    {
     "data": {
      "text/html": [
       "<div>\n",
       "<style scoped>\n",
       "    .dataframe tbody tr th:only-of-type {\n",
       "        vertical-align: middle;\n",
       "    }\n",
       "\n",
       "    .dataframe tbody tr th {\n",
       "        vertical-align: top;\n",
       "    }\n",
       "\n",
       "    .dataframe thead th {\n",
       "        text-align: right;\n",
       "    }\n",
       "</style>\n",
       "<table border=\"1\" class=\"dataframe\">\n",
       "  <thead>\n",
       "    <tr style=\"text-align: right;\">\n",
       "      <th></th>\n",
       "      <th>Date</th>\n",
       "      <th>Sentiment_Label</th>\n",
       "      <th>Negative_Percent</th>\n",
       "      <th>Neutral_Percent</th>\n",
       "      <th>Positive_Percent</th>\n",
       "    </tr>\n",
       "  </thead>\n",
       "  <tbody>\n",
       "    <tr>\n",
       "      <th>0</th>\n",
       "      <td>2018-02-01</td>\n",
       "      <td>0.105263</td>\n",
       "      <td>0.157895</td>\n",
       "      <td>0.578947</td>\n",
       "      <td>0.263158</td>\n",
       "    </tr>\n",
       "    <tr>\n",
       "      <th>1</th>\n",
       "      <td>2018-02-02</td>\n",
       "      <td>-0.259259</td>\n",
       "      <td>0.296296</td>\n",
       "      <td>0.666667</td>\n",
       "      <td>0.037037</td>\n",
       "    </tr>\n",
       "    <tr>\n",
       "      <th>2</th>\n",
       "      <td>2018-02-03</td>\n",
       "      <td>-0.400000</td>\n",
       "      <td>0.600000</td>\n",
       "      <td>0.200000</td>\n",
       "      <td>0.200000</td>\n",
       "    </tr>\n",
       "    <tr>\n",
       "      <th>3</th>\n",
       "      <td>2018-02-04</td>\n",
       "      <td>-0.250000</td>\n",
       "      <td>0.500000</td>\n",
       "      <td>0.250000</td>\n",
       "      <td>0.250000</td>\n",
       "    </tr>\n",
       "    <tr>\n",
       "      <th>4</th>\n",
       "      <td>2018-02-05</td>\n",
       "      <td>-0.444444</td>\n",
       "      <td>0.518519</td>\n",
       "      <td>0.407407</td>\n",
       "      <td>0.074074</td>\n",
       "    </tr>\n",
       "  </tbody>\n",
       "</table>\n",
       "</div>"
      ],
      "text/plain": [
       "         Date  Sentiment_Label  Negative_Percent  Neutral_Percent  \\\n",
       "0  2018-02-01         0.105263          0.157895         0.578947   \n",
       "1  2018-02-02        -0.259259          0.296296         0.666667   \n",
       "2  2018-02-03        -0.400000          0.600000         0.200000   \n",
       "3  2018-02-04        -0.250000          0.500000         0.250000   \n",
       "4  2018-02-05        -0.444444          0.518519         0.407407   \n",
       "\n",
       "   Positive_Percent  \n",
       "0          0.263158  \n",
       "1          0.037037  \n",
       "2          0.200000  \n",
       "3          0.250000  \n",
       "4          0.074074  "
      ]
     },
     "execution_count": 82,
     "metadata": {},
     "output_type": "execute_result"
    }
   ],
   "source": [
    "agg_daily_sentiment.head()"
   ]
  },
  {
   "cell_type": "code",
   "execution_count": 83,
   "metadata": {},
   "outputs": [
    {
     "data": {
      "text/plain": [
       "Date                0\n",
       "Sentiment_Label     0\n",
       "Negative_Percent    0\n",
       "Neutral_Percent     0\n",
       "Positive_Percent    0\n",
       "dtype: int64"
      ]
     },
     "execution_count": 83,
     "metadata": {},
     "output_type": "execute_result"
    }
   ],
   "source": [
    "agg_daily_sentiment.isna().sum()    "
   ]
  },
  {
   "cell_type": "code",
   "execution_count": 58,
   "metadata": {},
   "outputs": [
    {
     "data": {
      "image/png": "[encoded data removed]",
      "text/plain": [
       "<Figure size 640x480 with 1 Axes>"
      ]
     },
     "metadata": {},
     "output_type": "display_data"
    }
   ],
   "source": [
    "agg_daily_sentiment['Sentiment_Label'].plot();"
   ]
  },
  {
   "cell_type": "code",
   "execution_count": 84,
   "metadata": {},
   "outputs": [],
   "source": [
    "agg_daily_sentiment.to_csv('data/news/agg_daily_sentiment.csv', header=True)"
   ]
  },
  {
   "cell_type": "code",
   "execution_count": null,
   "metadata": {},
   "outputs": [],
   "source": []
  },
  {
   "cell_type": "markdown",
   "metadata": {},
   "source": [
    "## Part 4 - Combine and create new dataset"
   ]
  },
  {
   "cell_type": "code",
   "execution_count": 115,
   "metadata": {},
   "outputs": [],
   "source": [
    "import pandas as pd \n",
    "import numpy as np\n",
    "\n",
    "# Load the data\n",
    "cfgi = pd.read_csv('data/cfgi/cfgi.csv')\n",
    "prices = pd.read_csv('data/prices/1d/BTCUSDT.csv')\n",
    "sentiment = pd.read_csv('data/news/agg_daily_sentiment.csv')\n",
    "\n",
    "# Rename the date column in prices dataset \n",
    "prices = prices.rename(columns={'Time': 'Date'})\n",
    "\n",
    "# Convert the date to datetime\n",
    "cfgi['Date'] = pd.to_datetime(cfgi['Date'])\n",
    "prices['Date'] = pd.to_datetime(prices['Date'], format=\"%d-%m-%Y\")\n",
    "sentiment['Date'] = pd.to_datetime(sentiment['Date'])\n",
    "\n",
    "# Merge the data\n",
    "merged_df = prices.merge(cfgi, on='Date', how='left')\n",
    "merged_df = merged_df.merge(sentiment, on='Date', how='left')\n",
    "merged_df.drop('Unnamed: 0', axis=1, inplace=True)\n",
    "\n",
    "# Get the entire date range to check for missing dates \n",
    "dt_range = pd.date_range(start = '2018-02-01', end = '2024-02-11', freq='D')\n",
    "dt_range = pd.DataFrame(dt_range, columns=['date'])\n",
    "\n",
    "# Merged with a left join to keep all the dates\n",
    "merged_df = dt_range.merge(merged_df, left_on='date', right_on='Date', how='left')\n",
    "merged_df.drop('Date', axis=1, inplace=True)\n",
    "merged_df.sort_values(by='date', inplace=True)\n",
    "\n",
    "# Fill the missing values with the previous value\n",
    "# Assumption: If there is now news about crypto we assume that the news sentiment stays the same as the previous day \n",
    "# Assumption: If there is no cfgi value we assume that the value stays the same as the previous day\n",
    "merged_df= merged_df.ffill()\n",
    "\n",
    "# Save the data to a parquet file\n",
    "merged_df.to_parquet('data/merged_data.parquet', index=False)"
   ]
  },
  {
   "cell_type": "code",
   "execution_count": 112,
   "metadata": {},
   "outputs": [],
   "source": []
  },
  {
   "cell_type": "code",
   "execution_count": 114,
   "metadata": {},
   "outputs": [],
   "source": []
  },
  {
   "cell_type": "code",
   "execution_count": null,
   "metadata": {},
   "outputs": [],
   "source": []
  }
 ],
 "metadata": {
  "kernelspec": {
   "display_name": "crypto",
   "language": "python",
   "name": "python3"
  },
  "language_info": {
   "codemirror_mode": {
    "name": "ipython",
    "version": 3
   },
   "file_extension": ".py",
   "mimetype": "text/x-python",
   "name": "python",
   "nbconvert_exporter": "python",
   "pygments_lexer": "ipython3",
   "version": "3.9.18"
  }
 },
 "nbformat": 4,
 "nbformat_minor": 2
}
